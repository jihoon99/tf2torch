{
 "cells": [
  {
   "cell_type": "markdown",
   "id": "israeli-indie",
   "metadata": {},
   "source": [
    "# Single nn.Linear"
   ]
  },
  {
   "cell_type": "code",
   "execution_count": 1,
   "id": "african-portal",
   "metadata": {},
   "outputs": [],
   "source": [
    "import torch\n",
    "import torch.nn as nn # forward하는데 매우 많이 쓸 것임.\n",
    "\n",
    "import numpy as np\n",
    "import matplotlib.pyplot as plt\n",
    "%matplotlib inline"
   ]
  },
  {
   "cell_type": "code",
   "execution_count": 2,
   "id": "mighty-bailey",
   "metadata": {},
   "outputs": [
    {
     "data": {
      "text/plain": [
       "Text(0.5, 0, 'x')"
      ]
     },
     "execution_count": 2,
     "metadata": {},
     "output_type": "execute_result"
    },
    {
     "data": {
      "image/png": "[encoded data removed]",
      "text/plain": [
       "<Figure size 432x288 with 1 Axes>"
      ]
     },
     "metadata": {
      "needs_background": "light"
     },
     "output_type": "display_data"
    }
   ],
   "source": [
    "\n",
    "# create data\n",
    "X = torch.linspace(1,50,50).reshape(-1,1)\n",
    "\n",
    "# create error data\n",
    "torch.manual_seed(42)\n",
    "e = torch.randint(-8,9, (50,1), dtype = torch.float)\n",
    "\n",
    "# formula\n",
    "y = 2*X + 1 + e\n",
    "\n",
    "# plot\n",
    "plt.scatter(X.numpy(), y.numpy())\n",
    "plt.ylabel('y')\n",
    "plt.xlabel('x')"
   ]
  },
  {
   "cell_type": "markdown",
   "id": "thorough-coalition",
   "metadata": {},
   "source": [
    "#### 여기서 문제점이 하나 있는데, X를 만들때 requires_grad = True를 안했다. 이렇게 하면 무슨 문제가 있냐면, y.backward()가 작동하지 않는다. 왜냐하면 토치가 operation을 추적하지 않기 때문에 X와 y의 관계를 모름."
   ]
  },
  {
   "cell_type": "markdown",
   "id": "antique-entertainment",
   "metadata": {},
   "source": [
    "# Linear Model"
   ]
  },
  {
   "cell_type": "code",
   "execution_count": 4,
   "id": "canadian-technical",
   "metadata": {},
   "outputs": [
    {
     "name": "stdout",
     "output_type": "stream",
     "text": [
      "Model(\n",
      "  (linear): Linear(in_features=1, out_features=1, bias=True)\n",
      ")\n",
      "---------------------------------\n",
      "Weight: -0.7670228481292725\n",
      "Bias: 0.8205388784408569\n"
     ]
    }
   ],
   "source": [
    "# Linear Model은 tensorflow에서 Dense라고 생각하면 편하다.\n",
    "\n",
    "class Model(nn.Module):\n",
    "    def __init__(self, in_features, out_features):\n",
    "        super().__init__()\n",
    "        self.linear = nn.Linear(in_features, out_features)\n",
    "        \n",
    "    def forward(self, x):\n",
    "        y_pred = self.linear(x)\n",
    "        return y_pred\n",
    "    \n",
    "model = Model(1,1)\n",
    "print(model)\n",
    "print('---------------------------------')\n",
    "print('Weight:', model.linear.weight.item())\n",
    "print('Bias:', model.linear.bias.item())"
   ]
  },
  {
   "cell_type": "code",
   "execution_count": 7,
   "id": "mediterranean-boundary",
   "metadata": {},
   "outputs": [
    {
     "name": "stdout",
     "output_type": "stream",
     "text": [
      "linear.weight \t -0.7670228481292725\n",
      "linear.bias \t 0.8205388784408569\n"
     ]
    }
   ],
   "source": [
    "# 모델이 복잡해지면 아래와같은 방법을 사용하는게 좋다.\n",
    "\n",
    "for name, param in model.named_parameters():\n",
    "    print(name, '\\t', param.item())"
   ]
  },
  {
   "cell_type": "markdown",
   "id": "capable-fiber",
   "metadata": {},
   "source": [
    "# Train\n",
    "- set : criterion, optimizer"
   ]
  },
  {
   "cell_type": "code",
   "execution_count": null,
   "id": "fatty-average",
   "metadata": {},
   "outputs": [],
   "source": [
    "criterion = nn.MSELoss()\n",
    "optimizer = torch.optim.SGD(model.parameters(), lr = 0.001)\n",
    "\n",
    "n_epochs = 100\n",
    "losses = []\n",
    "for i in range(n_epochs):\n",
    "    "
   ]
  },
  {
   "cell_type": "code",
   "execution_count": null,
   "id": "arbitrary-airline",
   "metadata": {},
   "outputs": [],
   "source": [
    "# Train model\n",
    "n_epochs = 30\n",
    "losses = []\n",
    "for i in range(n_epochs):\n",
    "    # zero param gradients\n",
    "    optimizer.zero_grad() # torch는 backward한번 할때마다 gradient를 cumulating함. 그래서 zero함.\n",
    "    \n",
    "    # forward\n",
    "    outputs = model(inputs)\n",
    "    loss = criterion(outputs, targets)\n",
    "    \n",
    "    # keep the loss\n",
    "    losses.append(loss.item())\n",
    "    \n",
    "    #backward\n",
    "    loss.backward()\n",
    "    optimizer.step()\n",
    "    \n",
    "    print(f'Epoch {i + 1}/{n_epochs}, Loss: {loss.item():.4f}')"
   ]
  },
  {
   "cell_type": "code",
   "execution_count": null,
   "id": "cellular-sellers",
   "metadata": {},
   "outputs": [],
   "source": []
  },
  {
   "cell_type": "code",
   "execution_count": null,
   "id": "smooth-event",
   "metadata": {},
   "outputs": [],
   "source": []
  },
  {
   "cell_type": "code",
   "execution_count": null,
   "id": "taken-supervision",
   "metadata": {},
   "outputs": [],
   "source": []
  },
  {
   "cell_type": "code",
   "execution_count": null,
   "id": "romance-september",
   "metadata": {},
   "outputs": [],
   "source": []
  },
  {
   "cell_type": "code",
   "execution_count": null,
   "id": "bridal-extreme",
   "metadata": {},
   "outputs": [],
   "source": []
  },
  {
   "cell_type": "code",
   "execution_count": null,
   "id": "impressive-explorer",
   "metadata": {},
   "outputs": [],
   "source": []
  }
 ],
 "metadata": {
  "kernelspec": {
   "display_name": "Python 3",
   "language": "python",
   "name": "python3"
  },
  "language_info": {
   "codemirror_mode": {
    "name": "ipython",
    "version": 3
   },
   "file_extension": ".py",
   "mimetype": "text/x-python",
   "name": "python",
   "nbconvert_exporter": "python",
   "pygments_lexer": "ipython3",
   "version": "3.8.6"
  }
 },
 "nbformat": 4,
 "nbformat_minor": 5
}
