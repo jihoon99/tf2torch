{
 "cells": [
  {
   "cell_type": "markdown",
   "id": "variable-marine",
   "metadata": {},
   "source": [
    "# Single nn.Linear"
   ]
  },
  {
   "cell_type": "code",
   "execution_count": 52,
   "id": "burning-calendar",
   "metadata": {},
   "outputs": [],
   "source": [
    "import torch\n",
    "import torch.nn as nn # forward하는데 매우 많이 쓸 것임.\n",
    "\n",
    "import numpy as np\n",
    "import matplotlib.pyplot as plt\n",
    "%matplotlib inline"
   ]
  },
  {
   "cell_type": "code",
   "execution_count": 53,
   "id": "religious-result",
   "metadata": {},
   "outputs": [
    {
     "data": {
      "text/plain": [
       "Text(0.5, 0, 'x')"
      ]
     },
     "execution_count": 53,
     "metadata": {},
     "output_type": "execute_result"
    },
    {
     "data": {
      "image/png": "[encoded data removed]",
      "text/plain": [
       "<Figure size 432x288 with 1 Axes>"
      ]
     },
     "metadata": {
      "needs_background": "light"
     },
     "output_type": "display_data"
    }
   ],
   "source": [
    "\n",
    "# create data\n",
    "X = torch.linspace(1,50,50).reshape(-1,1)\n",
    "\n",
    "# create error data\n",
    "torch.manual_seed(42)\n",
    "e = torch.randint(-8,9, (50,1), dtype = torch.float)\n",
    "\n",
    "# formula\n",
    "y = 2*X + 1 + e\n",
    "\n",
    "# plot\n",
    "plt.scatter(X.numpy(), y.numpy())\n",
    "plt.ylabel('y')\n",
    "plt.xlabel('x')"
   ]
  },
  {
   "cell_type": "markdown",
   "id": "trying-warning",
   "metadata": {},
   "source": [
    "#### 여기서 문제점이 하나 있는데, X를 만들때 requires_grad = True를 안했다. 이렇게 하면 무슨 문제가 있냐면, y.backward()가 작동하지 않는다. 왜냐하면 토치가 operation을 추적하지 않기 때문에 X와 y의 관계를 모름."
   ]
  },
  {
   "cell_type": "markdown",
   "id": "blank-planning",
   "metadata": {},
   "source": [
    "# Linear Model"
   ]
  },
  {
   "cell_type": "code",
   "execution_count": 54,
   "id": "secret-platinum",
   "metadata": {},
   "outputs": [
    {
     "name": "stdout",
     "output_type": "stream",
     "text": [
      "Model(\n",
      "  (linear): Linear(in_features=1, out_features=1, bias=True)\n",
      ")\n",
      "---------------------------------\n",
      "Weight: -0.9899084568023682\n",
      "Bias: -0.3863605260848999\n"
     ]
    }
   ],
   "source": [
    "# Linear Model은 tensorflow에서 Dense라고 생각하면 편하다.\n",
    "\n",
    "class Model(nn.Module):\n",
    "    def __init__(self, in_features, out_features):\n",
    "        super().__init__()\n",
    "        self.linear = nn.Linear(in_features, out_features)\n",
    "        \n",
    "    def forward(self, x):\n",
    "        y_pred = self.linear(x)\n",
    "        return y_pred\n",
    "    \n",
    "    \n",
    "model = Model(1,1)\n",
    "print(model)\n",
    "print('---------------------------------')\n",
    "print('Weight:', model.linear.weight.item())\n",
    "print('Bias:', model.linear.bias.item())"
   ]
  },
  {
   "cell_type": "code",
   "execution_count": 55,
   "id": "killing-alabama",
   "metadata": {},
   "outputs": [
    {
     "name": "stdout",
     "output_type": "stream",
     "text": [
      "linear.weight \t -0.9899084568023682\n",
      "linear.bias \t -0.3863605260848999\n"
     ]
    }
   ],
   "source": [
    "# 모델이 복잡해지면 아래와같은 방법을 사용하는게 좋다.\n",
    "\n",
    "for name, param in model.named_parameters():\n",
    "    print(name, '\\t', param.item())"
   ]
  },
  {
   "cell_type": "markdown",
   "id": "aware-world",
   "metadata": {},
   "source": [
    "# Train\n",
    "- set : criterion, optimizer"
   ]
  },
  {
   "cell_type": "code",
   "execution_count": 56,
   "id": "surface-drawing",
   "metadata": {},
   "outputs": [
    {
     "name": "stdout",
     "output_type": "stream",
     "text": [
      "epoch: 10 loss: 40.02252579\n",
      "epoch: 20 loss: 19.86588860\n",
      "epoch: 30 loss: 19.83869934\n"
     ]
    }
   ],
   "source": [
    "criterion = nn.MSELoss()\n",
    "optimizer = torch.optim.SGD(model.parameters(), lr = 0.001)\n",
    "\n",
    "n_epochs = 30\n",
    "losses = []\n",
    "for i in range(n_epochs):\n",
    "    #0. for문이 0부터 시작하니까 i를 1로 바꾸기 위해\n",
    "    i += 1\n",
    "    \n",
    "    #1. forward\n",
    "    y_pred = model.forward(X)\n",
    "    \n",
    "    #2. calculate loss\n",
    "    loss = criterion(y_pred, y)\n",
    "    losses.append(loss.item())\n",
    "    \n",
    "    #3. print(loss)\n",
    "    if i % 10 == 0:\n",
    "        print(f'epoch: {i:2} loss: {loss.item():10.8f}')\n",
    "    \n",
    "    #3-1. optimizer : gradient\n",
    "    optimizer.zero_grad()\n",
    "    \n",
    "    #4. backprop\n",
    "    loss.backward()\n",
    "    \n",
    "    #5. update parameter\n",
    "    optimizer.step()"
   ]
  },
  {
   "cell_type": "code",
   "execution_count": 57,
   "id": "interracial-appreciation",
   "metadata": {},
   "outputs": [
    {
     "data": {
      "text/plain": [
       "Text(0.5, 0, 'epoch')"
      ]
     },
     "execution_count": 57,
     "metadata": {},
     "output_type": "execute_result"
    },
    {
     "data": {
      "image/png": "[encoded data removed]",
      "text/plain": [
       "<Figure size 432x288 with 1 Axes>"
      ]
     },
     "metadata": {
      "needs_background": "light"
     },
     "output_type": "display_data"
    }
   ],
   "source": [
    "plt.plot(range(n_epochs), losses)\n",
    "plt.ylabel('Loss')\n",
    "plt.xlabel('epoch')"
   ]
  },
  {
   "cell_type": "code",
   "execution_count": 58,
   "id": "colored-currency",
   "metadata": {},
   "outputs": [
    {
     "name": "stdout",
     "output_type": "stream",
     "text": [
      "[ 1. 50.]\n",
      "Current weight: 2.01125813, Current bias: -0.29454845\n",
      "\n",
      "[ 1. 50.]\n",
      "[  1.7167096 100.26836  ]\n"
     ]
    }
   ],
   "source": [
    "x1 = np.array([X.min(),X.max()])\n",
    "print(x1)\n",
    "\n",
    "w1,b1 = model.linear.weight.item(), model.linear.bias.item()\n",
    "print(f'Current weight: {w1:.8f}, Current bias: {b1:.8f}')\n",
    "print()\n",
    "\n",
    "y1 = x1*w1 + b1\n",
    "print(x1)\n",
    "print(y1)"
   ]
  },
  {
   "cell_type": "code",
   "execution_count": 59,
   "id": "junior-wages",
   "metadata": {},
   "outputs": [
    {
     "data": {
      "image/png": "[encoded data removed]",
      "text/plain": [
       "<Figure size 432x288 with 1 Axes>"
      ]
     },
     "metadata": {
      "needs_background": "light"
     },
     "output_type": "display_data"
    }
   ],
   "source": [
    "plt.scatter(X.numpy(), y.numpy())\n",
    "plt.plot(x1,y1,'r')\n",
    "plt.title('Current Model')\n",
    "plt.ylabel('y')\n",
    "plt.xlabel('x');"
   ]
  },
  {
   "cell_type": "code",
   "execution_count": null,
   "id": "offensive-carpet",
   "metadata": {},
   "outputs": [],
   "source": []
  },
  {
   "cell_type": "code",
   "execution_count": null,
   "id": "distributed-context",
   "metadata": {},
   "outputs": [],
   "source": []
  },
  {
   "cell_type": "code",
   "execution_count": null,
   "id": "provincial-distributor",
   "metadata": {},
   "outputs": [],
   "source": []
  }
 ],
 "metadata": {
  "kernelspec": {
   "display_name": "Python 3",
   "language": "python",
   "name": "python3"
  },
  "language_info": {
   "codemirror_mode": {
    "name": "ipython",
    "version": 3
   },
   "file_extension": ".py",
   "mimetype": "text/x-python",
   "name": "python",
   "nbconvert_exporter": "python",
   "pygments_lexer": "ipython3",
   "version": "3.8.6"
  }
 },
 "nbformat": 4,
 "nbformat_minor": 5
}
