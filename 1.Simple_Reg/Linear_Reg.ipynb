{
 "cells": [
  {
   "cell_type": "code",
   "execution_count": 1,
   "id": "sized-pacific",
   "metadata": {},
   "outputs": [],
   "source": [
    "import torch\n",
    "import torch.nn as nn\n",
    "import numpy as np\n",
    "import matplotlib.pyplot as plt"
   ]
  },
  {
   "cell_type": "code",
   "execution_count": 2,
   "id": "cognitive-forward",
   "metadata": {},
   "outputs": [],
   "source": [
    "# 20개의 더미 데이터 생성\n",
    "N = 20\n",
    "X = np.random.random(N)*10 - 5\n",
    "Y = 0.5*X - 1 + np.random.randn(N)"
   ]
  },
  {
   "cell_type": "code",
   "execution_count": 3,
   "id": "wrapped-quantum",
   "metadata": {},
   "outputs": [
    {
     "data": {
      "text/plain": [
       "<matplotlib.collections.PathCollection at 0x165887790>"
      ]
     },
     "execution_count": 3,
     "metadata": {},
     "output_type": "execute_result"
    },
    {
     "data": {
      "image/png": "[encoded data removed]",
      "text/plain": [
       "<Figure size 432x288 with 1 Axes>"
      ]
     },
     "metadata": {
      "needs_background": "light"
     },
     "output_type": "display_data"
    }
   ],
   "source": [
    "plt.scatter(X,Y)"
   ]
  },
  {
   "cell_type": "code",
   "execution_count": 4,
   "id": "according-farmer",
   "metadata": {},
   "outputs": [],
   "source": [
    "# reshape\n",
    "X = X.reshape(N, 1)\n",
    "Y = Y.reshape(N, 1)\n",
    "\n",
    "# Pytorch 는 float32를 기본 사용\n",
    "# Numpy 는 float64를 기본 사용\n",
    "inputs = torch.from_numpy(X.astype(np.float32))\n",
    "targets = torch.from_numpy(Y.astype(np.float32))"
   ]
  },
  {
   "cell_type": "code",
   "execution_count": 6,
   "id": "marked-express",
   "metadata": {},
   "outputs": [
    {
     "data": {
      "text/plain": [
       "torch.Tensor"
      ]
     },
     "execution_count": 6,
     "metadata": {},
     "output_type": "execute_result"
    }
   ],
   "source": [
    "type(inputs)"
   ]
  },
  {
   "cell_type": "code",
   "execution_count": 11,
   "id": "waiting-canyon",
   "metadata": {},
   "outputs": [],
   "source": [
    "# define model\n",
    "model = nn.Linear(1,1)\n",
    "\n",
    "# Loss and Optimizer\n",
    "criterion = nn.MSELoss()\n",
    "optimizer = torch.optim.SGD(model.parameters(), lr = 0.01)"
   ]
  },
  {
   "cell_type": "code",
   "execution_count": 12,
   "id": "statewide-country",
   "metadata": {},
   "outputs": [
    {
     "name": "stdout",
     "output_type": "stream",
     "text": [
      "Epoch 1/30, Loss: 3.5327\n",
      "Epoch 2/30, Loss: 2.8565\n",
      "Epoch 3/30, Loss: 2.3558\n",
      "Epoch 4/30, Loss: 1.9849\n",
      "Epoch 5/30, Loss: 1.7099\n",
      "Epoch 6/30, Loss: 1.5058\n",
      "Epoch 7/30, Loss: 1.3542\n",
      "Epoch 8/30, Loss: 1.2414\n",
      "Epoch 9/30, Loss: 1.1572\n",
      "Epoch 10/30, Loss: 1.0943\n",
      "Epoch 11/30, Loss: 1.0471\n",
      "Epoch 12/30, Loss: 1.0116\n",
      "Epoch 13/30, Loss: 0.9847\n",
      "Epoch 14/30, Loss: 0.9641\n",
      "Epoch 15/30, Loss: 0.9484\n",
      "Epoch 16/30, Loss: 0.9362\n",
      "Epoch 17/30, Loss: 0.9266\n",
      "Epoch 18/30, Loss: 0.9190\n",
      "Epoch 19/30, Loss: 0.9128\n",
      "Epoch 20/30, Loss: 0.9078\n",
      "Epoch 21/30, Loss: 0.9036\n",
      "Epoch 22/30, Loss: 0.9000\n",
      "Epoch 23/30, Loss: 0.8970\n",
      "Epoch 24/30, Loss: 0.8943\n",
      "Epoch 25/30, Loss: 0.8919\n",
      "Epoch 26/30, Loss: 0.8897\n",
      "Epoch 27/30, Loss: 0.8878\n",
      "Epoch 28/30, Loss: 0.8859\n",
      "Epoch 29/30, Loss: 0.8843\n",
      "Epoch 30/30, Loss: 0.8827\n"
     ]
    }
   ],
   "source": [
    "# Train model\n",
    "n_epochs = 30\n",
    "losses = []\n",
    "for i in range(n_epochs):\n",
    "    # zero param gradients\n",
    "    optimizer.zero_grad() # torch는 backward한번 할때마다 gradient를 cumulating함. 그래서 zero함.\n",
    "    \n",
    "    # forward\n",
    "    outputs = model(inputs)\n",
    "    loss = criterion(outputs, targets)\n",
    "    \n",
    "    # keep the loss\n",
    "    losses.append(loss.item())\n",
    "    \n",
    "    #backward\n",
    "    loss.backward()\n",
    "    optimizer.step()\n",
    "    \n",
    "    print(f'Epoch {i + 1}/{n_epochs}, Loss: {loss.item():.4f}')"
   ]
  },
  {
   "cell_type": "code",
   "execution_count": null,
   "id": "attempted-prototype",
   "metadata": {},
   "outputs": [],
   "source": []
  }
 ],
 "metadata": {
  "kernelspec": {
   "display_name": "Python 3",
   "language": "python",
   "name": "python3"
  },
  "language_info": {
   "codemirror_mode": {
    "name": "ipython",
    "version": 3
   },
   "file_extension": ".py",
   "mimetype": "text/x-python",
   "name": "python",
   "nbconvert_exporter": "python",
   "pygments_lexer": "ipython3",
   "version": "3.8.6"
  }
 },
 "nbformat": 4,
 "nbformat_minor": 5
}
