{
 "cells": [
  {
   "cell_type": "markdown",
   "id": "experienced-floating",
   "metadata": {},
   "source": [
    "# Tensor Basics\n",
    "Numpy -> Torch Tensors"
   ]
  },
  {
   "cell_type": "code",
   "execution_count": 1,
   "id": "mexican-honey",
   "metadata": {},
   "outputs": [
    {
     "data": {
      "text/plain": [
       "'1.9.0'"
      ]
     },
     "execution_count": 1,
     "metadata": {},
     "output_type": "execute_result"
    }
   ],
   "source": [
    "import torch\n",
    "import numpy as np\n",
    "\n",
    "torch.__version__"
   ]
  },
  {
   "cell_type": "code",
   "execution_count": 4,
   "id": "light-morning",
   "metadata": {},
   "outputs": [
    {
     "data": {
      "text/plain": [
       "tensor([1, 2, 3, 4, 5])"
      ]
     },
     "execution_count": 4,
     "metadata": {},
     "output_type": "execute_result"
    }
   ],
   "source": [
    "arr = np.array([1,2,3,4,5])\n",
    "\n",
    "tensor = torch.from_numpy(arr)\n",
    "tensor "
   ]
  },
  {
   "cell_type": "markdown",
   "id": "numerous-personal",
   "metadata": {},
   "source": [
    "<h2><a href='https://pytorch.org/docs/stable/tensors.html'>Tensor Datatypes</a></h2>\n",
    "<table style=\"display: inline-block\">\n",
    "<tr><th>TYPE</th><th>NAME</th><th>EQUIVALENT</th><th>TENSOR TYPE</th></tr>\n",
    "<tr><td>32-bit integer (signed)</td><td>torch.int32</td><td>torch.int</td><td>IntTensor</td></tr>\n",
    "<tr><td>64-bit integer (signed)</td><td>torch.int64</td><td>torch.long</td><td>LongTensor</td></tr>\n",
    "<tr><td>16-bit integer (signed)</td><td>torch.int16</td><td>torch.short</td><td>ShortTensor</td></tr>\n",
    "<tr><td>32-bit floating point</td><td>torch.float32</td><td>torch.float</td><td>FloatTensor</td></tr>\n",
    "<tr><td>64-bit floating point</td><td>torch.float64</td><td>torch.double</td><td>DoubleTensor</td></tr>\n",
    "<tr><td>16-bit floating point</td><td>torch.float16</td><td>torch.half</td><td>HalfTensor</td></tr>\n",
    "<tr><td>8-bit integer (signed)</td><td>torch.int8</td><td></td><td>CharTensor</td></tr>\n",
    "<tr><td>8-bit integer (unsigned)</td><td>torch.uint8</td><td></td><td>ByteTensor</td></tr></table> "
   ]
  },
  {
   "cell_type": "markdown",
   "id": "functioning-bracelet",
   "metadata": {},
   "source": [
    "# Tensor를 만드는 방법은 세개가 있는데,\n",
    "- torch.from_numpy()\n",
    "- torch.as_tensor()\n",
    "- torch.tensor()\n",
    "- 세가지 방법이 있다. **torch.from_numpy()**, **torch.as_tensor()**이 둘은 numpy와 메모리를 공유하기에 tensor가 변경되면 numpy도 변형됨. <br>\n",
    "하지만 **torch.tensor()**은 카피본을 만듬"
   ]
  },
  {
   "cell_type": "markdown",
   "id": "roman-cycle",
   "metadata": {},
   "source": [
    "# Class constructors\n",
    "- torch.Tensor()\n",
    "- torch.FloatTensor()\n",
    "- torch.LongTensor()\n",
    "- etc...\n",
    "- torch.tensor(data)와 torch.Tensor(data)를 쓰는데 약간의 차이점이 있다. torch.Tensor()은 torch.FloatTensor()의 alias이다."
   ]
  },
  {
   "cell_type": "code",
   "execution_count": 5,
   "id": "mobile-zimbabwe",
   "metadata": {},
   "outputs": [
    {
     "name": "stdout",
     "output_type": "stream",
     "text": [
      "tensor([1., 2., 3.]) torch.FloatTensor\n"
     ]
    }
   ],
   "source": [
    "data = np.array([1,2,3])\n",
    "\n",
    "a = torch.Tensor(data)\n",
    "print(a, a.type())"
   ]
  },
  {
   "cell_type": "code",
   "execution_count": 8,
   "id": "embedded-merchant",
   "metadata": {},
   "outputs": [
    {
     "name": "stdout",
     "output_type": "stream",
     "text": [
      "tensor([1, 2, 3]) torch.LongTensor\n"
     ]
    }
   ],
   "source": [
    "b = torch.tensor(data, dtype = torch.long)\n",
    "print(b, b.type())"
   ]
  },
  {
   "cell_type": "markdown",
   "id": "affiliated-savage",
   "metadata": {},
   "source": [
    "# Creating tensor from scratch\n",
    "- torch.empty() 는 초기화되지(unitialized) 않은 텐서를 반환한다\n",
    "- torch.zeros, torch.ones(initialized)"
   ]
  },
  {
   "cell_type": "markdown",
   "id": "excited-grocery",
   "metadata": {},
   "source": [
    "# Tensors from ranges\n",
    "- torch.arange(start, end, step)   end를 포함하지 않음\n",
    "- torch.linspace(start, end, steps)   end를 포함함\n"
   ]
  },
  {
   "cell_type": "markdown",
   "id": "fleet-purse",
   "metadata": {},
   "source": [
    "# Change type of Tensor\n",
    "- use type"
   ]
  },
  {
   "cell_type": "code",
   "execution_count": 9,
   "id": "loose-relation",
   "metadata": {},
   "outputs": [
    {
     "name": "stdout",
     "output_type": "stream",
     "text": [
      "Old type: torch.IntTensor\n",
      "New type: torch.LongTensor\n"
     ]
    }
   ],
   "source": [
    "x = torch.tensor([8,9,-1], dtype = torch.int)\n",
    "\n",
    "print(f'Old type: {x.type()}')\n",
    "\n",
    "x = x.type(torch.int64)\n",
    "print(f'New type: {x.type()}')"
   ]
  },
  {
   "cell_type": "code",
   "execution_count": null,
   "id": "conceptual-reading",
   "metadata": {},
   "outputs": [],
   "source": []
  }
 ],
 "metadata": {
  "kernelspec": {
   "display_name": "Python 3",
   "language": "python",
   "name": "python3"
  },
  "language_info": {
   "codemirror_mode": {
    "name": "ipython",
    "version": 3
   },
   "file_extension": ".py",
   "mimetype": "text/x-python",
   "name": "python",
   "nbconvert_exporter": "python",
   "pygments_lexer": "ipython3",
   "version": "3.8.6"
  }
 },
 "nbformat": 4,
 "nbformat_minor": 5
}
