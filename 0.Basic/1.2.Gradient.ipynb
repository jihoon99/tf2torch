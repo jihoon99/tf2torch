{
 "cells": [
  {
   "cell_type": "markdown",
   "id": "hungarian-murray",
   "metadata": {},
   "source": [
    "# AutoGrad Mechanism\n",
    "- torch.autograd.backward()\n",
    "- torch.autograd.grad()\n",
    "\n",
    "# what's autograd\n",
    "- Tensor의 모든 작업에 대해 자동 미분을 제공하는 메서드? 옵션? 이다. Tensor의 ***.requires_grad***속성이 True로 설정되면 모든 작업을 추적하기 시작한다. 작업이 완료되면 ***.backward()*** 를 호출하고 모든 그래디언트를 자동으로 계산한다. 모든 그래디언트는 ***.grad*** 에 누적된다."
   ]
  },
  {
   "cell_type": "code",
   "execution_count": 8,
   "id": "cultural-collectible",
   "metadata": {},
   "outputs": [
    {
     "name": "stdout",
     "output_type": "stream",
     "text": [
      "tensor(93.)\n"
     ]
    }
   ],
   "source": [
    "import torch\n",
    "\n",
    "#1. create data\n",
    "x = torch.tensor(2., requires_grad = True)\n",
    "\n",
    "#2. formula(model)\n",
    "y = 2*x**4 + x**3 + 3*x**2 + 5*x + 1\n",
    "\n",
    "#3 forward\n",
    "y\n",
    "\n",
    "#4 backward\n",
    "y.backward()\n",
    "\n",
    "#5. gradient 확인하기\n",
    "print(x.grad)"
   ]
  },
  {
   "cell_type": "markdown",
   "id": "light-click",
   "metadata": {},
   "source": [
    "$\\quad y'=8(2)^3+3(2)^2+6(2)+5 = 64+12+12+5 = 93$"
   ]
  },
  {
   "cell_type": "code",
   "execution_count": 16,
   "id": "norwegian-adapter",
   "metadata": {},
   "outputs": [
    {
     "name": "stdout",
     "output_type": "stream",
     "text": [
      "tensor([[10., 16., 22.],\n",
      "        [22., 16., 10.]])\n"
     ]
    }
   ],
   "source": [
    "# 다른 예제\n",
    "\n",
    "#1. create data\n",
    "x = torch.tensor([[1.,2,3],[3,2,1]], requires_grad=True)\n",
    "\n",
    "#2. formula(model)\n",
    "y = 3*x + 2\n",
    "z = 2*y**2\n",
    "out = z.mean()\n",
    "\n",
    "#3. forward\n",
    "out\n",
    "\n",
    "#4. backward\n",
    "out.backward()\n",
    "\n",
    "#5. gradient확인하기\n",
    "print(x.grad)"
   ]
  },
  {
   "cell_type": "markdown",
   "id": "flexible-gateway",
   "metadata": {},
   "source": [
    "# Turn off tracking\n",
    "- 평가할때 ***torch.no_grad()*** 로 작업하는게 도움이 된다.\n",
    "- 혹은 ***.detach()*** 를 실행해 향후 계산이 추적되지 않게 하는게 좋다. 이렇게하면 텐서를 복제할 때 편리 하다."
   ]
  }
 ],
 "metadata": {
  "kernelspec": {
   "display_name": "Python 3",
   "language": "python",
   "name": "python3"
  },
  "language_info": {
   "codemirror_mode": {
    "name": "ipython",
    "version": 3
   },
   "file_extension": ".py",
   "mimetype": "text/x-python",
   "name": "python",
   "nbconvert_exporter": "python",
   "pygments_lexer": "ipython3",
   "version": "3.8.6"
  }
 },
 "nbformat": 4,
 "nbformat_minor": 5
}
