{
 "cells": [
  {
   "cell_type": "markdown",
   "id": "adult-geometry",
   "metadata": {},
   "source": [
    "# Operations\n",
    "- indexing, slicing\n",
    "- reshaping\n",
    "- arithmetic, basic operations\n",
    "- dot products\n",
    "- matrix multiplication\n",
    "- etc..."
   ]
  },
  {
   "cell_type": "code",
   "execution_count": 1,
   "id": "french-elizabeth",
   "metadata": {},
   "outputs": [],
   "source": [
    "import torch\n",
    "import numpy as np"
   ]
  },
  {
   "cell_type": "markdown",
   "id": "sitting-floor",
   "metadata": {},
   "source": [
    "# Indexing\n",
    "- same as numpy"
   ]
  },
  {
   "cell_type": "markdown",
   "id": "civil-nancy",
   "metadata": {},
   "source": [
    "# Reshape : Reshape, view\n",
    "- reshape, view, view_as(tensor)"
   ]
  },
  {
   "cell_type": "code",
   "execution_count": 2,
   "id": "finished-program",
   "metadata": {},
   "outputs": [
    {
     "name": "stdout",
     "output_type": "stream",
     "text": [
      "tensor([0, 1, 2, 3, 4, 5, 6, 7, 8, 9])\n"
     ]
    },
    {
     "data": {
      "text/plain": [
       "tensor([[0, 1, 2, 3, 4],\n",
       "        [5, 6, 7, 8, 9]])"
      ]
     },
     "execution_count": 2,
     "metadata": {},
     "output_type": "execute_result"
    }
   ],
   "source": [
    "x = torch.arange(10)\n",
    "print(x)\n",
    "\n",
    "x.view(2,5)"
   ]
  },
  {
   "cell_type": "code",
   "execution_count": 3,
   "id": "reasonable-skirt",
   "metadata": {},
   "outputs": [
    {
     "data": {
      "text/plain": [
       "tensor([[0, 1, 2, 3, 4],\n",
       "        [5, 6, 7, 8, 9]])"
      ]
     },
     "execution_count": 3,
     "metadata": {},
     "output_type": "execute_result"
    }
   ],
   "source": [
    "x.reshape(2,5)"
   ]
  },
  {
   "cell_type": "code",
   "execution_count": 4,
   "id": "vertical-allergy",
   "metadata": {},
   "outputs": [
    {
     "data": {
      "text/plain": [
       "tensor([[0, 1],\n",
       "        [2, 3],\n",
       "        [4, 5],\n",
       "        [6, 7],\n",
       "        [8, 9]])"
      ]
     },
     "execution_count": 4,
     "metadata": {},
     "output_type": "execute_result"
    }
   ],
   "source": [
    "x.view_as(torch.randn(5,2))"
   ]
  },
  {
   "cell_type": "markdown",
   "id": "medium-bicycle",
   "metadata": {},
   "source": [
    "# Tensor Arithmetic\n",
    "- plus : +, add(method)\n",
    "- tensor.add_(b) : a = torch.add(a,b)  inplace\n",
    "- broadcasting is applied"
   ]
  },
  {
   "cell_type": "code",
   "execution_count": 28,
   "id": "manufactured-commitment",
   "metadata": {},
   "outputs": [],
   "source": [
    "a = torch.arange(2)\n",
    "b = torch.randn(5,2)"
   ]
  },
  {
   "cell_type": "code",
   "execution_count": 29,
   "id": "aging-chocolate",
   "metadata": {},
   "outputs": [
    {
     "data": {
      "text/plain": [
       "tensor([[ 0.9552,  2.5336],\n",
       "        [ 0.4429,  0.6222],\n",
       "        [-1.2028,  1.9327],\n",
       "        [ 0.8071,  2.7116],\n",
       "        [-0.9875, -0.0162]])"
      ]
     },
     "execution_count": 29,
     "metadata": {},
     "output_type": "execute_result"
    }
   ],
   "source": [
    "a+b"
   ]
  },
  {
   "cell_type": "markdown",
   "id": "encouraging-paper",
   "metadata": {},
   "source": [
    "### Basic Tensor Operations\n",
    "<table style=\"display: inline-block\">\n",
    "<caption style=\"text-align: center\"><strong>Arithmetic</strong></caption>\n",
    "<tr><th>OPERATION</th><th>FUNCTION</th><th>DESCRIPTION</th></tr>\n",
    "<tr><td>a + b</td><td>a.add(b)</td><td>element wise addition</td></tr>\n",
    "<tr><td>a - b</td><td>a.sub(b)</td><td>subtraction</td></tr>\n",
    "<tr><td>a * b</td><td>a.mul(b)</td><td>multiplication</td></tr>\n",
    "<tr><td>a / b</td><td>a.div(b)</td><td>division</td></tr>\n",
    "<tr><td>a % b</td><td>a.fmod(b)</td><td>modulo (remainder after division)</td></tr>\n",
    "<tr><td>a<sup>b</sup></td><td>a.pow(b)</td><td>power</td></tr>\n",
    "<tr><td>&nbsp;</td><td></td><td></td></tr>\n",
    "</table>\n",
    "\n",
    "<table style=\"display: inline-block\">\n",
    "<caption style=\"text-align: center\"><strong>Monomial Operations</strong></caption>\n",
    "<tr><th>OPERATION</th><th>FUNCTION</th><th>DESCRIPTION</th></tr>\n",
    "<tr><td>|a|</td><td>torch.abs(a)</td><td>absolute value</td></tr>\n",
    "<tr><td>1/a</td><td>torch.reciprocal(a)</td><td>reciprocal</td></tr>\n",
    "<tr><td>$\\sqrt{a}$</td><td>torch.sqrt(a)</td><td>square root</td></tr>\n",
    "<tr><td>log(a)</td><td>torch.log(a)</td><td>natural log</td></tr>\n",
    "<tr><td>e<sup>a</sup></td><td>torch.exp(a)</td><td>exponential</td></tr>\n",
    "<tr><td>12.34  ==>  12.</td><td>torch.trunc(a)</td><td>truncated integer</td></tr>\n",
    "<tr><td>12.34  ==>  0.34</td><td>torch.frac(a)</td><td>fractional component</td></tr>\n",
    "</table>\n",
    "\n",
    "<table style=\"display: inline-block\">\n",
    "<caption style=\"text-align: center\"><strong>Trigonometry</strong></caption>\n",
    "<tr><th>OPERATION</th><th>FUNCTION</th><th>DESCRIPTION</th></tr>\n",
    "<tr><td>sin(a)</td><td>torch.sin(a)</td><td>sine</td></tr>\n",
    "<tr><td>cos(a)</td><td>torch.sin(a)</td><td>cosine</td></tr>\n",
    "<tr><td>tan(a)</td><td>torch.sin(a)</td><td>tangent</td></tr>\n",
    "<tr><td>arcsin(a)</td><td>torch.asin(a)</td><td>arc sine</td></tr>\n",
    "<tr><td>arccos(a)</td><td>torch.acos(a)</td><td>arc cosine</td></tr>\n",
    "<tr><td>arctan(a)</td><td>torch.atan(a)</td><td>arc tangent</td></tr>\n",
    "<tr><td>sinh(a)</td><td>torch.sinh(a)</td><td>hyperbolic sine</td></tr>\n",
    "<tr><td>cosh(a)</td><td>torch.cosh(a)</td><td>hyperbolic cosine</td></tr>\n",
    "<tr><td>tanh(a)</td><td>torch.tanh(a)</td><td>hyperbolic tangent</td></tr>\n",
    "</table>\n",
    "\n",
    "<table style=\"display: inline-block\">\n",
    "<caption style=\"text-align: center\"><strong>Summary Statistics</strong></caption>\n",
    "<tr><th>OPERATION</th><th>FUNCTION</th><th>DESCRIPTION</th></tr>\n",
    "<tr><td>$\\sum a$</td><td>torch.sum(a)</td><td>sum</td></tr>\n",
    "<tr><td>$\\bar a$</td><td>torch.mean(a)</td><td>mean</td></tr>\n",
    "<tr><td>a<sub>max</sub></td><td>torch.max(a)</td><td>maximum</td></tr>\n",
    "<tr><td>a<sub>min</sub></td><td>torch.min(a)</td><td>minimum</td></tr>\n",
    "<tr><td colspan=\"3\">torch.max(a,b) returns a tensor of size a<br>containing the element wise max between a and b</td></tr>\n",
    "</table>"
   ]
  },
  {
   "cell_type": "markdown",
   "id": "amber-clothing",
   "metadata": {},
   "source": [
    "# Dot Product : 행렬 곱(Not element wise product)\n",
    "- a.dot(b)\n",
    "- torch.dot(a,b)\n",
    "- torch.mm(a,b)\n",
    "- a.mm(b)\n",
    "- a@b"
   ]
  },
  {
   "cell_type": "markdown",
   "id": "alive-latest",
   "metadata": {},
   "source": [
    "# Matrix multiplication with broadcasting\n",
    "- torch.matmul(a,b)\n",
    "- a.matmul(b)\n",
    "- a@b"
   ]
  },
  {
   "cell_type": "code",
   "execution_count": 34,
   "id": "assigned-motor",
   "metadata": {},
   "outputs": [],
   "source": [
    "t1 = torch.arange(24).view(2,3,4)\n",
    "t2 = torch.arange(20).view(4,5)\n",
    "\n",
    "# [2,3,4] * [4,5] => [2,3,5]"
   ]
  },
  {
   "cell_type": "code",
   "execution_count": 36,
   "id": "relevant-investigation",
   "metadata": {},
   "outputs": [
    {
     "data": {
      "text/plain": [
       "tensor([[[ 0,  1,  2,  3],\n",
       "         [ 4,  5,  6,  7],\n",
       "         [ 8,  9, 10, 11]],\n",
       "\n",
       "        [[12, 13, 14, 15],\n",
       "         [16, 17, 18, 19],\n",
       "         [20, 21, 22, 23]]])"
      ]
     },
     "execution_count": 36,
     "metadata": {},
     "output_type": "execute_result"
    }
   ],
   "source": [
    "t1"
   ]
  },
  {
   "cell_type": "code",
   "execution_count": 37,
   "id": "solid-module",
   "metadata": {},
   "outputs": [
    {
     "data": {
      "text/plain": [
       "tensor([[ 0,  1,  2,  3,  4],\n",
       "        [ 5,  6,  7,  8,  9],\n",
       "        [10, 11, 12, 13, 14],\n",
       "        [15, 16, 17, 18, 19]])"
      ]
     },
     "execution_count": 37,
     "metadata": {},
     "output_type": "execute_result"
    }
   ],
   "source": [
    "t2"
   ]
  },
  {
   "cell_type": "code",
   "execution_count": 35,
   "id": "governing-albania",
   "metadata": {},
   "outputs": [
    {
     "data": {
      "text/plain": [
       "tensor([[[  70,   76,   82,   88,   94],\n",
       "         [ 190,  212,  234,  256,  278],\n",
       "         [ 310,  348,  386,  424,  462]],\n",
       "\n",
       "        [[ 430,  484,  538,  592,  646],\n",
       "         [ 550,  620,  690,  760,  830],\n",
       "         [ 670,  756,  842,  928, 1014]]])"
      ]
     },
     "execution_count": 35,
     "metadata": {},
     "output_type": "execute_result"
    }
   ],
   "source": [
    "torch.matmul(t1,t2)"
   ]
  },
  {
   "cell_type": "markdown",
   "id": "reserved-prototype",
   "metadata": {},
   "source": [
    "---\n",
    "# Advanced operations"
   ]
  },
  {
   "cell_type": "markdown",
   "id": "colored-cambodia",
   "metadata": {},
   "source": [
    "# L2 aka. Euclidian Norm\n",
    "- x.norm()"
   ]
  },
  {
   "cell_type": "code",
   "execution_count": null,
   "id": "ambient-sierra",
   "metadata": {},
   "outputs": [],
   "source": []
  }
 ],
 "metadata": {
  "kernelspec": {
   "display_name": "Python 3",
   "language": "python",
   "name": "python3"
  },
  "language_info": {
   "codemirror_mode": {
    "name": "ipython",
    "version": 3
   },
   "file_extension": ".py",
   "mimetype": "text/x-python",
   "name": "python",
   "nbconvert_exporter": "python",
   "pygments_lexer": "ipython3",
   "version": "3.8.6"
  }
 },
 "nbformat": 4,
 "nbformat_minor": 5
}
